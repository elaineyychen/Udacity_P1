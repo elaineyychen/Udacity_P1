{
 "cells": [
  {
   "cell_type": "markdown",
   "metadata": {},
   "source": [
    "# <center>Stroop Effect Analysis Reprot</center>\n",
    "<center>Author: Elaine Chen</center>\n",
    "<center>Date: 04/08/2015</center>\n",
    "\n",
    "\n",
    "##1. Introduction\n",
    "\n",
    "Stroop effect, as a psychology term, is a demonstration of interference in the reaction time of a task <sup>[1]</sup>. In a Stroop task, participants are presented with a list of words, with each word displayed in a color of ink. The participant’s task is to say out loud the color of the ink in which the word is printed. \n",
    "\n",
    "The task has two conditions: \n",
    "+ a congruent words condition\n",
    "+ an incongruent words condition\n",
    "\n",
    "In the congruent words condition, the words being displayed are color words whose names match the colors in which they are printed: for example <font size=3 color=\"red\">RED</font>, <font size=3 color=\"blue\">BLUE</font>; while in the incongruent words condition, the words displayed are color words whose names do not match the colors in which they are printed: for example <font size=3 color=\"green\">PURPLE</font>, <font size=3 color=\"purple\">ORANGE</font>. \n",
    "\n",
    "In each case, the researchers measure the time it takes to name the ink colors in equally-sized lists. Each participant will go through and record a time from each condition. (The reader can try out the Stroop task with a Java-based applet<sup>[2]</sup>.)\n",
    "\n",
    "![alt text](https://faculty.washington.edu/chudler/java/stroopa.gif)\n",
    "\n",
    "During this report, the experiment analysis is firstly presented, followed by the dataset exploration and the statistical analysis results. Finally,the conclusion is drawn. And also some references are included for further discussion. \n",
    "\n",
    "\n",
    "##2. Experiment Analysis\n",
    "\n",
    "This is a dependent sample test (within-subject design). The sample is the 24 participants who take the test under two different conditions, as mentioned in Section 1.\n",
    "\n",
    "###2.1. Variables\n",
    "\n",
    "In this study, there are two kinds of variables, stated as follows.\n",
    "\n",
    "+ <font color=\"red\">Independent variable</font>: congruent words condition & incongruent words condition.\n",
    "\n",
    "+ <font color=\"red\">Dependent variable</font>: the time it takes to name the ink colors for all the participants.\n",
    "\n",
    "###2.2. Hypothese Defination\n",
    "\n",
    "From the statistical test, <font color=\"red\">we could expect that people would  spend more time on naming the ink colors within the incongruent words condition than within the congruent words condition.</font> Obviously, when the name of a color (e.g. \"blue\", \"green\", or \"red\") is printed in a color not denoted by the name (e.g. the word \"red\" printed in blue ink instead of red ink), naming the color of the word takes longer and is more prone to errors than when the color of the ink matches the name of the color.\n",
    "\n",
    "Therefore, an appropriate set of hypotheses for this task could be: \n",
    " \n",
    "&ensp;&ensp;&ensp;\\\\(H_0:\\mu_0=\\mu_1\\\\)\n",
    "\n",
    "&ensp;&ensp;&ensp;\\\\(H_A:\\mu_0<\\mu_1\\\\)\n",
    "\n",
    "where \\\\(\\mu_0\\\\) is the mean time the participants take in the congruent words condition; \\\\(\\mu_1\\\\) is the mean time they take in the incongruent words condition.\n",
    "\n",
    "*In other words,the null hypothese here is that the time it takes within the incongruent words condition will not be significant different with the time it takes within the congruent words; while the alternative hypotheses is that the time it takes within the incongruent words condition will more than (significant different with) the time it takes within the congruent words.*\n",
    "\n",
    "\n",
    "\n",
    "##3. Descriptive Statistical Analysis\n",
    "\n",
    "The result of this experiment can be downloaded [here](https://drive.google.com/file/d/0B9Yf01UaIbUgQXpYb2NhZ29yX1U/view?usp=sharing), which is a dataset recording the test results from a number of participants in the task. Each row of the dataset contains the performance for one participant, with the first number their results on the congruent task and the second number their performance on the incongruent task. The whole dataset is shown as follows:\n"
   ]
  },
  {
   "cell_type": "code",
   "execution_count": 2,
   "metadata": {
    "collapsed": false
   },
   "outputs": [
    {
     "data": {
      "text/html": [
       "<div>\n",
       "<table border=\"1\" class=\"dataframe\">\n",
       "  <thead>\n",
       "    <tr style=\"text-align: right;\">\n",
       "      <th></th>\n",
       "      <th>Congruent</th>\n",
       "      <th>Incongruent</th>\n",
       "    </tr>\n",
       "  </thead>\n",
       "  <tbody>\n",
       "    <tr>\n",
       "      <th>0</th>\n",
       "      <td>12.079</td>\n",
       "      <td>19.278</td>\n",
       "    </tr>\n",
       "    <tr>\n",
       "      <th>1</th>\n",
       "      <td>16.791</td>\n",
       "      <td>18.741</td>\n",
       "    </tr>\n",
       "    <tr>\n",
       "      <th>2</th>\n",
       "      <td>9.564</td>\n",
       "      <td>21.214</td>\n",
       "    </tr>\n",
       "    <tr>\n",
       "      <th>3</th>\n",
       "      <td>8.630</td>\n",
       "      <td>15.687</td>\n",
       "    </tr>\n",
       "    <tr>\n",
       "      <th>4</th>\n",
       "      <td>14.669</td>\n",
       "      <td>22.803</td>\n",
       "    </tr>\n",
       "    <tr>\n",
       "      <th>5</th>\n",
       "      <td>12.238</td>\n",
       "      <td>20.878</td>\n",
       "    </tr>\n",
       "    <tr>\n",
       "      <th>6</th>\n",
       "      <td>14.692</td>\n",
       "      <td>24.572</td>\n",
       "    </tr>\n",
       "    <tr>\n",
       "      <th>7</th>\n",
       "      <td>8.987</td>\n",
       "      <td>17.394</td>\n",
       "    </tr>\n",
       "    <tr>\n",
       "      <th>8</th>\n",
       "      <td>9.401</td>\n",
       "      <td>20.762</td>\n",
       "    </tr>\n",
       "    <tr>\n",
       "      <th>9</th>\n",
       "      <td>14.480</td>\n",
       "      <td>26.282</td>\n",
       "    </tr>\n",
       "    <tr>\n",
       "      <th>10</th>\n",
       "      <td>22.328</td>\n",
       "      <td>24.524</td>\n",
       "    </tr>\n",
       "    <tr>\n",
       "      <th>11</th>\n",
       "      <td>15.298</td>\n",
       "      <td>18.644</td>\n",
       "    </tr>\n",
       "    <tr>\n",
       "      <th>12</th>\n",
       "      <td>15.073</td>\n",
       "      <td>17.510</td>\n",
       "    </tr>\n",
       "    <tr>\n",
       "      <th>13</th>\n",
       "      <td>16.929</td>\n",
       "      <td>20.330</td>\n",
       "    </tr>\n",
       "    <tr>\n",
       "      <th>14</th>\n",
       "      <td>18.200</td>\n",
       "      <td>35.255</td>\n",
       "    </tr>\n",
       "    <tr>\n",
       "      <th>15</th>\n",
       "      <td>12.130</td>\n",
       "      <td>22.158</td>\n",
       "    </tr>\n",
       "    <tr>\n",
       "      <th>16</th>\n",
       "      <td>18.495</td>\n",
       "      <td>25.139</td>\n",
       "    </tr>\n",
       "    <tr>\n",
       "      <th>17</th>\n",
       "      <td>10.639</td>\n",
       "      <td>20.429</td>\n",
       "    </tr>\n",
       "    <tr>\n",
       "      <th>18</th>\n",
       "      <td>11.344</td>\n",
       "      <td>17.425</td>\n",
       "    </tr>\n",
       "    <tr>\n",
       "      <th>19</th>\n",
       "      <td>12.369</td>\n",
       "      <td>34.288</td>\n",
       "    </tr>\n",
       "    <tr>\n",
       "      <th>20</th>\n",
       "      <td>12.944</td>\n",
       "      <td>23.894</td>\n",
       "    </tr>\n",
       "    <tr>\n",
       "      <th>21</th>\n",
       "      <td>14.233</td>\n",
       "      <td>17.960</td>\n",
       "    </tr>\n",
       "    <tr>\n",
       "      <th>22</th>\n",
       "      <td>19.710</td>\n",
       "      <td>22.058</td>\n",
       "    </tr>\n",
       "    <tr>\n",
       "      <th>23</th>\n",
       "      <td>16.004</td>\n",
       "      <td>21.157</td>\n",
       "    </tr>\n",
       "  </tbody>\n",
       "</table>\n",
       "</div>"
      ],
      "text/plain": [
       "    Congruent  Incongruent\n",
       "0      12.079       19.278\n",
       "1      16.791       18.741\n",
       "2       9.564       21.214\n",
       "3       8.630       15.687\n",
       "4      14.669       22.803\n",
       "5      12.238       20.878\n",
       "6      14.692       24.572\n",
       "7       8.987       17.394\n",
       "8       9.401       20.762\n",
       "9      14.480       26.282\n",
       "10     22.328       24.524\n",
       "11     15.298       18.644\n",
       "12     15.073       17.510\n",
       "13     16.929       20.330\n",
       "14     18.200       35.255\n",
       "15     12.130       22.158\n",
       "16     18.495       25.139\n",
       "17     10.639       20.429\n",
       "18     11.344       17.425\n",
       "19     12.369       34.288\n",
       "20     12.944       23.894\n",
       "21     14.233       17.960\n",
       "22     19.710       22.058\n",
       "23     16.004       21.157"
      ]
     },
     "execution_count": 2,
     "metadata": {},
     "output_type": "execute_result"
    }
   ],
   "source": [
    "import pandas as pd\n",
    "\n",
    "# pandas is a software library for data manipulation and analysis\n",
    "# We commonly use shorter nicknames for certain packages. Pandas is often abbreviated to pd.\n",
    "# hit shift + enter to run this cell or block of code\n",
    "\n",
    "path = r'file:///E:\\Dropbox\\Udacity\\Data%20Analyst%20Nanodegree\\P1\\stroopdata.csv'\n",
    "# Change the path to the location where the stroopdata.csv file is located on your computer.\n",
    "# If you get an error when running this block of code, be sure the stroopdata.csv is located at the path on your computer.\n",
    "\n",
    "dataFrame = pd.read_csv(path)\n",
    "dataFrame"
   ]
  },
  {
   "cell_type": "code",
   "execution_count": 3,
   "metadata": {
    "collapsed": false
   },
   "outputs": [
    {
     "name": "stdout",
     "output_type": "stream",
     "text": [
      "The mean of the time in both conditions are:\n",
      "Congruent      14.051125\n",
      "Incongruent    22.015917\n",
      "dtype: float64\n"
     ]
    }
   ],
   "source": [
    "print \"The mean of the time in both conditions are:\\n\",  dataFrame.mean()"
   ]
  },
  {
   "cell_type": "code",
   "execution_count": 35,
   "metadata": {
    "collapsed": false
   },
   "outputs": [
    {
     "name": "stdout",
     "output_type": "stream",
     "text": [
      "The standard deviations of the time in both conditions are:\n",
      "Congruent      3.559358\n",
      "Incongruent    4.797057\n",
      "dtype: float64\n"
     ]
    }
   ],
   "source": [
    "print \"The standard deviations of the time in both conditions are:\\n\",  dataFrame.std()"
   ]
  },
  {
   "cell_type": "markdown",
   "metadata": {},
   "source": [
    "The graph below shows the distribution of the sample dataset:"
   ]
  },
  {
   "cell_type": "code",
   "execution_count": 14,
   "metadata": {
    "collapsed": false
   },
   "outputs": [
    {
     "name": "stdout",
     "output_type": "stream",
     "text": [
      "Populating the interactive namespace from numpy and matplotlib\n"
     ]
    },
    {
     "data": {
      "image/png": "[encoded data removed]",
      "text/plain": [
       "<matplotlib.figure.Figure at 0xe1ecf98>"
      ]
     },
     "metadata": {},
     "output_type": "display_data"
    }
   ],
   "source": [
    "import matplotlib.pyplot as plt\n",
    "# Causes plots to display within the notebook rather than in a new window\n",
    "%pylab inline\n",
    "\n",
    "index = range(24)\n",
    "plt.scatter(x=index, y=dataFrame['Congruent'],color='blue', label='Congruent')\n",
    "plt.scatter(x=index, y=dataFrame['Incongruent'],color='red', label='Incongruent')\n",
    "plt.legend(loc=2)\n",
    "plt.xlabel(\"Participant ID\")\n",
    "plt.ylabel(\"Spending Time\")\n",
    "plt.title(\"Distribution of Experiment Performance\")\n",
    "\n",
    "plt.show()"
   ]
  },
  {
   "cell_type": "markdown",
   "metadata": {},
   "source": [
    "<font color='red'>It can be seen from the above scattered plot that the values of time within the incongruent condition tend to be larger than that within the congruent condition. We could also notice that there are two outliners in the incongruent dataset.</font>\n"
   ]
  },
  {
   "cell_type": "markdown",
   "metadata": {},
   "source": [
    "##4. Inferential Statistical Analysis\n",
    "\n",
    "In this section, the statistcial test is performed, followed by the result analysis. According to the problem description and hypothesis setting, we could find that the same participants took the test twice under two different conditions so the samples are dependent. Since we do not know the poplulation parameters (mean, standard deviation, etc.), t-test is used here. Therefore, this study performs the <font color=\"red\">one-tailed t-test with dependent sample</font>.\n",
    "\n",
    "We have already known that the means of time the participants spent under two differenet conditions are:\n",
    "\n",
    "+ $\\overline{X}_0= 14.05$\n",
    "+ $\\overline{X}_1= 22.02$\n",
    "\n",
    "The sample standard deviation $S = 4.86$\n",
    "\n",
    "The sample size $N = 24$, so the degrees of freedom $DF = N - 1 = 24 - 1 = 23$ \n",
    "\n",
    "our point estimate for $\\overline{X}_1 - \\overline{X}_0 = 22.02 - 14.05 = 7.97$\n",
    "\n",
    "Therefore, the value of $t = \\frac{\\overline{X}_1 - \\overline{X}_0}{S/\\sqrt{N}} = \\frac{7.97}{4.86/\\sqrt{24}} = 8.03$\n",
    "\n",
    "In this study, we set the confidence level $\\alpha = 95\\%$. According to the [t-table](https://s3.amazonaws.com/udacity-hosted-downloads/t-table.jpg), the t critical value $t_{critical} = 1.714$.\n",
    "\n",
    "It is clearly to see that $t(23) = 8.03 > t_{critical}$ with one-tailed test in + direction, so $t$ falls into the critical region, which means that we reject the null hypothesis. There were statistically significant difference between these two experiement results. <font color='red'>The result matchs up with our expectation that people would spend more time on naming the ink colors within the incongruent words condition than within the congruent words condition.</font>\n",
    "\n",
    "\n",
    "####Effect Size Measure:\n",
    "\n",
    "In this study, the correlation measure method is utilized to figure out the strength of the relationship between the indepedent and dependent variables.\n",
    "\n",
    "$r^2 = \\frac{t^2}{t^2 + DF} = \\frac{7.97^2}{7.97^2 + 23} = .734 (73.4\\%)$ \n",
    "\n",
    "\n",
    "<font color='red'>It tells us that we can explain 73.4% of the variation in the dependent variable by knowing the independent variable in this study. The effect size value $r^2$ suggested a moderate to high practical significance.</font>\n",
    "\n",
    "In this experiment, the stroop effects were observed by the task that all the participants needed to name the color of the ink in which the word is printed,under congruent and incongruent word conditions. There are also some alternative tasks that would result in a similar effect. For instance, let the participants name the written word under congruent and incongruent word conditions. Another similar task we can use is measuring the number of written words in a given time.\n",
    "\n",
    "##5. Reference\n",
    "\n",
    "[1] Stroop Effect Definition, https://en.wikipedia.org/wiki/Stroop_effect\n",
    "\n",
    "[2] Java-based applet for performing the Stroop task, https://faculty.washington.edu/chudler/java/ready.html\n",
    "\n",
    "[3] Experiment Dataset, https://drive.google.com/file/d/0B9Yf01UaIbUgQXpYb2NhZ29yX1U/view?usp=sharing"
   ]
  }
 ],
 "metadata": {
  "kernelspec": {
   "display_name": "Python 2",
   "language": "python",
   "name": "python2"
  },
  "language_info": {
   "codemirror_mode": {
    "name": "ipython",
    "version": 2
   },
   "file_extension": ".py",
   "mimetype": "text/x-python",
   "name": "python",
   "nbconvert_exporter": "python",
   "pygments_lexer": "ipython2",
   "version": "2.7.10"
  }
 },
 "nbformat": 4,
 "nbformat_minor": 0
}
